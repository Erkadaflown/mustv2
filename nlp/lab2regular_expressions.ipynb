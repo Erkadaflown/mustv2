{
 "cells": [
  {
   "cell_type": "markdown",
   "metadata": {},
   "source": [
    "## Deziunkts"
   ]
  },
  {
   "cell_type": "code",
   "execution_count": null,
   "metadata": {},
   "outputs": [],
   "source": [
    "x = '[wW]oodchuck' # woodchuck, Woodchuck\n",
    "[1234567890] # anydigit\n",
    "\n",
    "[A-Z] # every uppercase\n",
    "[a-z] # every lowercase\n",
    "[0-9] # single digit\n",
    "[^A-Z] # Not upper case\n",
    "[^Ss] # not S not s\n",
    "# https://www.regexpal.com/"
   ]
  },
  {
   "cell_type": "markdown",
   "metadata": {},
   "source": [
    "/beg.n/ --> Match any character between beg and n (e.g. begin, begun)"
   ]
  },
  {
   "cell_type": "code",
   "execution_count": null,
   "metadata": {},
   "outputs": [],
   "source": [
    "oo*h! → 0 or more of a previous character (e.g. ooh!, ooooh!)\n",
    "o+h! → 1 or more of a previous character (e.g. ooh!, ooooooh!)\n",
    "baa+ → baa, baaaa, baaaaaa, baaaaaaa"
   ]
  },
  {
   "cell_type": "markdown",
   "metadata": {},
   "source": [
    ". → any character except a new line\n",
    "\\\\w → any word character\n",
    "\\\\W → anything but a word character\n",
    "\\\\d → any digit character\n",
    "\\\\D → anything but a digit character\n",
    "\\\\b → a word boundary\n",
    "\\\\B → anything but a word boundary\n",
    "\\\\s → any space character\n",
    "\\\\S → anything but a space character"
   ]
  },
  {
   "cell_type": "markdown",
   "metadata": {},
   "source": [
    "[[:alpha:]] → alphabetic characters\n",
    "[[:digit:]] → digits\n",
    "[[:punct:]] → punctuation\n",
    "[[:space:]] → space, tab, newline etc.\n",
    "[[:lower:]] → lowercase alphatic characters\n",
    "[[:upper:]] → upper case alphabetic characters"
   ]
  },
  {
   "cell_type": "markdown",
   "metadata": {},
   "source": [
    "richard3 <- “now is the winter of our discontent”\n",
    "strsplit(richard3, “ “) # the second argument specifies the space"
   ]
  },
  {
   "cell_type": "markdown",
   "metadata": {},
   "source": [
    "grep.ex <- c(“some like Python”, “some prefer R”, “some like both”)\n",
    "grep(“both”, grep.ex) # in numerical form\n",
    "grep(“both”, grep.ex, value=TRUE) #prints the character string itself"
   ]
  },
  {
   "cell_type": "markdown",
   "metadata": {},
   "source": [
    "r_and_j <- “O Romeo, Romeo, wherefore art thou Romeo?”\n",
    "gsub(“Romeo”, “Superman”, r_and_j, ignore.case = FALSE)"
   ]
  },
  {
   "cell_type": "markdown",
   "metadata": {},
   "source": [
    "dollar <- c(“I paid $15 for this book.”, “they received $50,000 in grant money”, “two dollars”)"
   ]
  },
  {
   "cell_type": "markdown",
   "metadata": {},
   "source": [
    "# matches all three vector elements\n",
    "grep(“sh”, c(“ashes”, “shark”, “bash”), value=TRUE) \n",
    "# matches only “shark”\n",
    "grep(“^sh”, c(“ashes”, “shark”, “bash”), value=TRUE) \n",
    "# matches only “bash”\n",
    "grep(“sh$”, c(“ashes”, “shark”, “bash”), value=TRUE) "
   ]
  },
  {
   "cell_type": "markdown",
   "metadata": {},
   "source": [
    "gsub(“.”, “*”, ex.sentence, ignore.case=TRUE, perl=TRUE)\n",
    "[1] \"**********************************************************\"\n",
    "gsub(“\\\\w”, “*”, ex.sentence, ignore.case=TRUE, perl=TRUE)\n",
    "[1] \"*** *, ***** *. ** **, ** *** ** **, **** ** *** ********:\"\n",
    "gsub(“\\\\W”, “*”, ex.sentence, ignore.case=TRUE, perl=TRUE)\n",
    "[1] \"Act*3**scene*1**To*be**or*not*to*be**that*is*the*Question*\"\n",
    "gsub(“\\\\d”, “*”, ex.sentence, ignore.case=TRUE, perl=TRUE)\n",
    "[1] \"Act *, scene *. To be, or not to be, that is the Question:\"\n",
    "gsub(“\\\\D”, “*”, ex.sentence, ignore.case=TRUE, perl=TRUE)\n",
    "[1] \"****3********1********************************************\"\n",
    "gsub(“\\\\b”, “*”, ex.sentence, ignore.case=TRUE, perl=TRUE)\n",
    "[1] \"*Act* *3*, *scene* *1*. *To* *be*, *or* *not* *to* *be*, *that* *is* *the* *Question*:\"\n",
    "gsub(“\\\\B”, “*”, ex.sentence, ignore.case=TRUE, perl=TRUE)\n",
    "[1] \"A*c*t 3,* s*c*e*n*e 1.* T*o b*e,* o*r n*o*t t*o b*e,* t*h*a*t i*s t*h*e Q*u*e*s*t*i*o*n:*\"\n",
    "gsub(“\\\\s”, “*”, ex.sentence, ignore.case=TRUE, perl=TRUE)\n",
    "[1] \"Act*3,*scene*1.*To*be,*or*not*to*be,*that*is*the*Question:\"\n",
    "gsub(“\\\\S”, “*”, ex.sentence, ignore.case=TRUE, perl=TRUE)\n",
    "[1] \"*** ** ***** ** ** *** ** *** ** *** **** ** *** *********\""
   ]
  }
 ],
 "metadata": {
  "language_info": {
   "name": "python"
  }
 },
 "nbformat": 4,
 "nbformat_minor": 2
}
